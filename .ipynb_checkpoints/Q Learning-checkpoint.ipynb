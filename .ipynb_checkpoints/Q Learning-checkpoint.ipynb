{
 "cells": [
  {
   "cell_type": "code",
   "execution_count": 1,
   "metadata": {},
   "outputs": [],
   "source": [
    "import gym"
   ]
  },
  {
   "cell_type": "code",
   "execution_count": 10,
   "metadata": {},
   "outputs": [
    {
     "data": {
      "text/plain": [
       "array([-0.53488136,  0.        ])"
      ]
     },
     "execution_count": 10,
     "metadata": {},
     "output_type": "execute_result"
    }
   ],
   "source": [
    "env = gym.make(\"MountainCar-v0\")\n",
    "env.reset()"
   ]
  },
  {
   "cell_type": "code",
   "execution_count": 15,
   "metadata": {},
   "outputs": [
    {
     "name": "stdout",
     "output_type": "stream",
     "text": [
      "[0.6  0.07]\n",
      "[-1.2  -0.07]\n",
      "3\n",
      "[0.036  0.0028]\n"
     ]
    }
   ],
   "source": [
    "print(env.observation_space.high)\n",
    "print(env.observation_space.low)\n",
    "print(env.action_space.n)\n",
    "\n",
    "DISCRETE_SIZE_Q_TABLE = [50] * len(env.observation_space.high) #lo hacemos así para tener un tamño decente con el que trabajar\n",
    "discrete_size = (env.observation_space.high - env.observation_space.low)/DISCRETE_SIZE_Q_TABLE\n",
    "print(discrete_size)\n",
    "\n",
    "q_table = np.random.uniform(Low = -2, high=0)\n",
    "\n"
   ]
  },
  {
   "cell_type": "code",
   "execution_count": null,
   "metadata": {},
   "outputs": [],
   "source": [
    "done = False\n",
    "while not done:\n",
    "    action = 2 # 0 left 1 nothing 2 right\n",
    "    new_state,reward, done,_ = env.step(action) #state has position and velocity\n",
    "    #print(new_state)\n",
    "    env.render()\n",
    "env.close()\n",
    "\n",
    "#with this we have no power to get to the top of the mountain. we need to get momentum\n"
   ]
  },
  {
   "cell_type": "code",
   "execution_count": null,
   "metadata": {},
   "outputs": [],
   "source": [
    "#Initialize the Q table with random values. --> The agent will eplore and slowsly\n",
    "#The agent will learn. Hay mil demciames de posicion y velocidad estmaos jodidos\n",
    "#si queiremos meter todos  los estados en una tabla. \n",
    "\n",
    "\n",
    "\n",
    "\n"
   ]
  }
 ],
 "metadata": {
  "kernelspec": {
   "display_name": "Py3Env",
   "language": "python",
   "name": "py3env"
  },
  "language_info": {
   "codemirror_mode": {
    "name": "ipython",
    "version": 3
   },
   "file_extension": ".py",
   "mimetype": "text/x-python",
   "name": "python",
   "nbconvert_exporter": "python",
   "pygments_lexer": "ipython3",
   "version": "3.7.7"
  }
 },
 "nbformat": 4,
 "nbformat_minor": 2
}
