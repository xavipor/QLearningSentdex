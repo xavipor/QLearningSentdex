{
 "cells": [
  {
   "cell_type": "code",
   "execution_count": 4,
   "metadata": {},
   "outputs": [],
   "source": [
    "import gym\n",
    "import numpy as np\n",
    "import matplotlib.pyplot as plt"
   ]
  },
  {
   "cell_type": "code",
   "execution_count": 2,
   "metadata": {},
   "outputs": [
    {
     "data": {
      "text/plain": [
       "array([-0.40706511,  0.        ])"
      ]
     },
     "execution_count": 2,
     "metadata": {},
     "output_type": "execute_result"
    }
   ],
   "source": [
    "env = gym.make(\"MountainCar-v0\")\n",
    "env.reset()"
   ]
  },
  {
   "cell_type": "code",
   "execution_count": 13,
   "metadata": {},
   "outputs": [
    {
     "name": "stdout",
     "output_type": "stream",
     "text": [
      "[0.6  0.07]\n",
      "[-1.2  -0.07]\n",
      "3\n",
      "[0.045  0.0035]\n",
      "(40, 40, 3)\n"
     ]
    }
   ],
   "source": [
    "print(env.observation_space.high)\n",
    "print(env.observation_space.low)\n",
    "print(env.action_space.n)\n",
    "\n",
    "LEARNING_RATE = 0.1\n",
    "DISCOUNT = 0.95 #measute of how important we see future actions. Future rewards vs current reward... 0.95*0.95*0.95...\n",
    "EPISODES = 10000\n",
    "SHOW_EVERY = 500\n",
    "STATS_EVERY=100\n",
    "\n",
    "DISCRETE_SIZE_Q_TABLE = [40] * len(env.observation_space.high) #lo hacemos así para tener un tamño \n",
    "discrete_size = (env.observation_space.high - env.observation_space.low)/DISCRETE_SIZE_Q_TABLE\n",
    "\n",
    "epsilon = 0.5 #Cuanto mas grande  mas probable que hagamos una acción random (exploracion). Por si nos atascamos\n",
    "START_EPSYLON_DECAYING = 1\n",
    "END_EPSYLON_DECAYING = EPISODES // 2\n",
    "epsilon_decay_value = epsilon/(END_EPSYLON_DECAYING - START_EPSYLON_DECAYING) #Cuanto valor queremos hacer el decay \n",
    "\n",
    "q_table = np.random.uniform(low = -2, high=0,size =(DISCRETE_SIZE_Q_TABLE + [env.action_space.n]) )\n",
    "\n",
    "ep_rewards = []\n",
    "aggr_ep_rewards = {'ep':[], 'avg':[],'min':[],'max':[]}\n",
    "\n",
    "\n",
    "#la historia es que el enviroment nos lo da en continio y nosotros tenemos espacios discretos de posición y velocidad\n",
    "def get_discrete_state (state):\n",
    "    discrete_state = (state - env.observation_space.low)/discrete_size\n",
    "    return tuple(discrete_state.astype(np.int))\n",
    "\n",
    "\n",
    "\n",
    "\n",
    "\n",
    "#decente con el que trabajar\n",
    "\n",
    "print(discrete_size)\n",
    "\n",
    "#El tamaño requiere de el tamaño de estados y \"una matriz\" por cada acción\n",
    "print(q_table.shape) #50x50x3\n",
    "\n",
    "\n"
   ]
  },
  {
   "cell_type": "code",
   "execution_count": 18,
   "metadata": {},
   "outputs": [
    {
     "name": "stdout",
     "output_type": "stream",
     "text": [
      "0\n",
      "Episode: 0 avg: -8.0,min: -200.0, max -200.0\n"
     ]
    },
    {
     "ename": "FileNotFoundError",
     "evalue": "[Errno 2] No such file or directory: 'C:/Users/Javier Dominguez/Documents/Untitled Folder 1/qtables/0-qtable.npy'",
     "output_type": "error",
     "traceback": [
      "\u001b[1;31m---------------------------------------------------------------------------\u001b[0m",
      "\u001b[1;31mFileNotFoundError\u001b[0m                         Traceback (most recent call last)",
      "\u001b[1;32m<ipython-input-18-c070194d2c9a>\u001b[0m in \u001b[0;36m<module>\u001b[1;34m\u001b[0m\n\u001b[0;32m     42\u001b[0m         \u001b[0maggr_ep_rewards\u001b[0m\u001b[1;33m[\u001b[0m\u001b[1;34m'max'\u001b[0m\u001b[1;33m]\u001b[0m\u001b[1;33m.\u001b[0m\u001b[0mappend\u001b[0m\u001b[1;33m(\u001b[0m\u001b[0mmax\u001b[0m\u001b[1;33m(\u001b[0m\u001b[0mep_rewards\u001b[0m \u001b[1;33m[\u001b[0m\u001b[1;33m-\u001b[0m\u001b[0mSTATS_EVERY\u001b[0m\u001b[1;33m:\u001b[0m\u001b[1;33m]\u001b[0m\u001b[1;33m)\u001b[0m\u001b[1;33m)\u001b[0m\u001b[1;33m\u001b[0m\u001b[1;33m\u001b[0m\u001b[0m\n\u001b[0;32m     43\u001b[0m         \u001b[0mprint\u001b[0m\u001b[1;33m(\u001b[0m\u001b[1;34mf\"Episode: {episode} avg: {average_reward},min: {min(ep_rewards [-SHOW_EVERY:])}, max {max(ep_rewards [-SHOW_EVERY:])}\"\u001b[0m \u001b[1;33m)\u001b[0m\u001b[1;33m\u001b[0m\u001b[1;33m\u001b[0m\u001b[0m\n\u001b[1;32m---> 44\u001b[1;33m         \u001b[0mnp\u001b[0m\u001b[1;33m.\u001b[0m\u001b[0msave\u001b[0m\u001b[1;33m(\u001b[0m\u001b[1;34mf\"C:/Users/Javier Dominguez/Documents/Untitled Folder 1/qtables/{episode}-qtable.npy\"\u001b[0m\u001b[1;33m,\u001b[0m \u001b[0mq_table\u001b[0m\u001b[1;33m)\u001b[0m\u001b[1;33m\u001b[0m\u001b[1;33m\u001b[0m\u001b[0m\n\u001b[0m\u001b[0;32m     45\u001b[0m \u001b[1;33m\u001b[0m\u001b[0m\n\u001b[0;32m     46\u001b[0m \u001b[1;33m\u001b[0m\u001b[0m\n",
      "\u001b[1;32m<__array_function__ internals>\u001b[0m in \u001b[0;36msave\u001b[1;34m(*args, **kwargs)\u001b[0m\n",
      "\u001b[1;32mC:\\Anaconda3\\envs\\Py3Env\\lib\\site-packages\\numpy\\lib\\npyio.py\u001b[0m in \u001b[0;36msave\u001b[1;34m(file, arr, allow_pickle, fix_imports)\u001b[0m\n\u001b[0;32m    539\u001b[0m         \u001b[1;32mif\u001b[0m \u001b[1;32mnot\u001b[0m \u001b[0mfile\u001b[0m\u001b[1;33m.\u001b[0m\u001b[0mendswith\u001b[0m\u001b[1;33m(\u001b[0m\u001b[1;34m'.npy'\u001b[0m\u001b[1;33m)\u001b[0m\u001b[1;33m:\u001b[0m\u001b[1;33m\u001b[0m\u001b[1;33m\u001b[0m\u001b[0m\n\u001b[0;32m    540\u001b[0m             \u001b[0mfile\u001b[0m \u001b[1;33m=\u001b[0m \u001b[0mfile\u001b[0m \u001b[1;33m+\u001b[0m \u001b[1;34m'.npy'\u001b[0m\u001b[1;33m\u001b[0m\u001b[1;33m\u001b[0m\u001b[0m\n\u001b[1;32m--> 541\u001b[1;33m         \u001b[0mfid\u001b[0m \u001b[1;33m=\u001b[0m \u001b[0mopen\u001b[0m\u001b[1;33m(\u001b[0m\u001b[0mfile\u001b[0m\u001b[1;33m,\u001b[0m \u001b[1;34m\"wb\"\u001b[0m\u001b[1;33m)\u001b[0m\u001b[1;33m\u001b[0m\u001b[1;33m\u001b[0m\u001b[0m\n\u001b[0m\u001b[0;32m    542\u001b[0m         \u001b[0mown_fid\u001b[0m \u001b[1;33m=\u001b[0m \u001b[1;32mTrue\u001b[0m\u001b[1;33m\u001b[0m\u001b[1;33m\u001b[0m\u001b[0m\n\u001b[0;32m    543\u001b[0m \u001b[1;33m\u001b[0m\u001b[0m\n",
      "\u001b[1;31mFileNotFoundError\u001b[0m: [Errno 2] No such file or directory: 'C:/Users/Javier Dominguez/Documents/Untitled Folder 1/qtables/0-qtable.npy'"
     ]
    }
   ],
   "source": [
    "\n",
    "for episode in range(EPISODES):\n",
    "    discrete_state = get_discrete_state(env.reset())#para conseguir el initial state\n",
    "    done = False\n",
    "    episode_reward = 0\n",
    "    if episode % SHOW_EVERY == 0:\n",
    "        print(episode)\n",
    "        render = True\n",
    "    else:\n",
    "        render = False\n",
    "    \n",
    "    \n",
    "    while not done:\n",
    "        if np.random.random() > epsilon:\n",
    "            action = np.argmax(q_table[discrete_state]) # 0 left 1 nothing 2 right\n",
    "        else:#random action\n",
    "            action = np.random.randint(0, env.action_space.n)\n",
    "            \n",
    "        new_state,reward, done,_ = env.step(action) #state has position and velocity\n",
    "        episode_reward += reward\n",
    "        new_discrete_state = get_discrete_state(new_state)\n",
    "        if render:\n",
    "            env.render()\n",
    "        if not done:\n",
    "            max_future_q = np.max(q_table[new_discrete_state])\n",
    "            current_q = q_table[discrete_state + (action,)]\n",
    "            new_q = (1 - LEARNING_RATE)* current_q + LEARNING_RATE * (reward + DISCOUNT* max_future_q)\n",
    "            q_table[discrete_state+(action,)] = new_q\n",
    "        elif new_state[0] >= env.goal_position:\n",
    "            q_table[discrete_state + (action,)] = 0\n",
    "\n",
    "        discrete_state = new_discrete_state\n",
    "        #print(reawar,new_state)\n",
    "    if END_EPSYLON_DECAYING >= episode >= START_EPSYLON_DECAYING:\n",
    "        epsilon -= epsilon_decay_value\n",
    "        \n",
    "    ep_rewards.append(episode_reward)\n",
    "    if not episode % STATS_EVERY:\n",
    "        average_reward = sum(ep_rewards [-STATS_EVERY:])/STATS_EVERY\n",
    "        aggr_ep_rewards['ep'].append(episode)\n",
    "        aggr_ep_rewards['avg'].append(average_reward)\n",
    "        aggr_ep_rewards['min'].append(min(ep_rewards [-STATS_EVERY:]))\n",
    "        aggr_ep_rewards['max'].append(max(ep_rewards [-STATS_EVERY:]))\n",
    "        print(f\"Episode: {episode} avg: {average_reward},min: {min(ep_rewards [-SHOW_EVERY:])}, max {max(ep_rewards [-SHOW_EVERY:])}\" )\n",
    "        np.save(f\"C:\\\\Users\\\\Javier Dominguez/Documents/Untitled Folder 1/qtables/{episode}-qtable.npy\", q_table)\n",
    "        \n",
    "\n",
    "        \n",
    "env.close()\n",
    "plt.plot(aggr_ep_rewards['ep'],aggr_ep_rewards['avg'],label = 'avg')\n",
    "plt.plot(aggr_ep_rewards['ep'],aggr_ep_rewards['min'],label = 'min')\n",
    "plt.plot(aggr_ep_rewards['ep'],aggr_ep_rewards['max'],label = 'max')\n",
    "plt.legend(loc=4)\n",
    "plt.show()\n",
    "#with this we have no power to get to the top of the mountain. we need to get momentum\n"
   ]
  },
  {
   "cell_type": "code",
   "execution_count": null,
   "metadata": {},
   "outputs": [],
   "source": [
    "#Initialize the Q table with random values. --> The agent will eplore and slowsly\n",
    "#The agent will learn. Hay mil demciames de posicion y velocidad estmaos jodidos\n",
    "#si queiremos meter todos  los estados en una tabla. \n",
    "\n",
    "\n",
    "\n",
    "\n"
   ]
  }
 ],
 "metadata": {
  "kernelspec": {
   "display_name": "Py3Env",
   "language": "python",
   "name": "py3env"
  },
  "language_info": {
   "codemirror_mode": {
    "name": "ipython",
    "version": 3
   },
   "file_extension": ".py",
   "mimetype": "text/x-python",
   "name": "python",
   "nbconvert_exporter": "python",
   "pygments_lexer": "ipython3",
   "version": "3.7.7"
  }
 },
 "nbformat": 4,
 "nbformat_minor": 2
}
