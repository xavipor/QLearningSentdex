{
 "cells": [
  {
   "cell_type": "code",
   "execution_count": null,
   "metadata": {},
   "outputs": [],
   "source": [
    "import gym\n",
    "import numpy as np\n",
    "import matplotlib.pyplot as plt\n",
    "from mpl_toolkits.mplot3d import axes3d\n",
    "from matplotlib import style"
   ]
  },
  {
   "cell_type": "code",
   "execution_count": 2,
   "metadata": {},
   "outputs": [
    {
     "data": {
      "text/plain": [
       "array([-0.40706511,  0.        ])"
      ]
     },
     "execution_count": 2,
     "metadata": {},
     "output_type": "execute_result"
    }
   ],
   "source": [
    "env = gym.make(\"MountainCar-v0\")\n",
    "env.reset()"
   ]
  },
  {
   "cell_type": "code",
   "execution_count": 13,
   "metadata": {},
   "outputs": [
    {
     "name": "stdout",
     "output_type": "stream",
     "text": [
      "[0.6  0.07]\n",
      "[-1.2  -0.07]\n",
      "3\n",
      "[0.045  0.0035]\n",
      "(40, 40, 3)\n"
     ]
    }
   ],
   "source": [
    "print(env.observation_space.high)\n",
    "print(env.observation_space.low)\n",
    "print(env.action_space.n)\n",
    "\n",
    "LEARNING_RATE = 0.1\n",
    "DISCOUNT = 0.95 #measute of how important we see future actions. Future rewards vs current reward... 0.95*0.95*0.95...\n",
    "EPISODES = 10000\n",
    "SHOW_EVERY = 500\n",
    "STATS_EVERY=100\n",
    "\n",
    "DISCRETE_SIZE_Q_TABLE = [40] * len(env.observation_space.high) #lo hacemos así para tener un tamño \n",
    "discrete_size = (env.observation_space.high - env.observation_space.low)/DISCRETE_SIZE_Q_TABLE\n",
    "\n",
    "epsilon = 0.5 #Cuanto mas grande  mas probable que hagamos una acción random (exploracion). Por si nos atascamos\n",
    "START_EPSYLON_DECAYING = 1\n",
    "END_EPSYLON_DECAYING = EPISODES // 2\n",
    "epsilon_decay_value = epsilon/(END_EPSYLON_DECAYING - START_EPSYLON_DECAYING) #Cuanto valor queremos hacer el decay \n",
    "\n",
    "q_table = np.random.uniform(low = -2, high=0,size =(DISCRETE_SIZE_Q_TABLE + [env.action_space.n]) )\n",
    "\n",
    "ep_rewards = []\n",
    "aggr_ep_rewards = {'ep':[], 'avg':[],'min':[],'max':[]}\n",
    "\n",
    "\n",
    "#la historia es que el enviroment nos lo da en continio y nosotros tenemos espacios discretos de posición y velocidad\n",
    "def get_discrete_state (state):\n",
    "    discrete_state = (state - env.observation_space.low)/discrete_size\n",
    "    return tuple(discrete_state.astype(np.int))\n",
    "\n",
    "\n",
    "\n",
    "\n",
    "\n",
    "#decente con el que trabajar\n",
    "\n",
    "print(discrete_size)\n",
    "\n",
    "#El tamaño requiere de el tamaño de estados y \"una matriz\" por cada acción\n",
    "print(q_table.shape) #50x50x3\n",
    "\n",
    "\n"
   ]
  },
  {
   "cell_type": "code",
   "execution_count": 20,
   "metadata": {},
   "outputs": [
    {
     "name": "stdout",
     "output_type": "stream",
     "text": [
      "0\n",
      "Episode: 0 avg: -12.0,min: -200.0, max -200.0\n"
     ]
    },
    {
     "ename": "FileNotFoundError",
     "evalue": "[Errno 2] No such file or directory: 'C:/Users/Javier Dominguez/Documents/Untitled Folder 1/qtables/0-qtable.npy'",
     "output_type": "error",
     "traceback": [
      "\u001b[1;31m---------------------------------------------------------------------------\u001b[0m",
      "\u001b[1;31mFileNotFoundError\u001b[0m                         Traceback (most recent call last)",
      "\u001b[1;32m<ipython-input-20-c070194d2c9a>\u001b[0m in \u001b[0;36m<module>\u001b[1;34m\u001b[0m\n\u001b[0;32m     42\u001b[0m         \u001b[0maggr_ep_rewards\u001b[0m\u001b[1;33m[\u001b[0m\u001b[1;34m'max'\u001b[0m\u001b[1;33m]\u001b[0m\u001b[1;33m.\u001b[0m\u001b[0mappend\u001b[0m\u001b[1;33m(\u001b[0m\u001b[0mmax\u001b[0m\u001b[1;33m(\u001b[0m\u001b[0mep_rewards\u001b[0m \u001b[1;33m[\u001b[0m\u001b[1;33m-\u001b[0m\u001b[0mSTATS_EVERY\u001b[0m\u001b[1;33m:\u001b[0m\u001b[1;33m]\u001b[0m\u001b[1;33m)\u001b[0m\u001b[1;33m)\u001b[0m\u001b[1;33m\u001b[0m\u001b[1;33m\u001b[0m\u001b[0m\n\u001b[0;32m     43\u001b[0m         \u001b[0mprint\u001b[0m\u001b[1;33m(\u001b[0m\u001b[1;34mf\"Episode: {episode} avg: {average_reward},min: {min(ep_rewards [-SHOW_EVERY:])}, max {max(ep_rewards [-SHOW_EVERY:])}\"\u001b[0m \u001b[1;33m)\u001b[0m\u001b[1;33m\u001b[0m\u001b[1;33m\u001b[0m\u001b[0m\n\u001b[1;32m---> 44\u001b[1;33m         \u001b[0mnp\u001b[0m\u001b[1;33m.\u001b[0m\u001b[0msave\u001b[0m\u001b[1;33m(\u001b[0m\u001b[1;34mf\"C:/Users/Javier Dominguez/Documents/Untitled Folder 1/qtables/{episode}-qtable.npy\"\u001b[0m\u001b[1;33m,\u001b[0m \u001b[0mq_table\u001b[0m\u001b[1;33m)\u001b[0m\u001b[1;33m\u001b[0m\u001b[1;33m\u001b[0m\u001b[0m\n\u001b[0m\u001b[0;32m     45\u001b[0m \u001b[1;33m\u001b[0m\u001b[0m\n\u001b[0;32m     46\u001b[0m \u001b[1;33m\u001b[0m\u001b[0m\n",
      "\u001b[1;32m<__array_function__ internals>\u001b[0m in \u001b[0;36msave\u001b[1;34m(*args, **kwargs)\u001b[0m\n",
      "\u001b[1;32mC:\\Anaconda3\\envs\\Py3Env\\lib\\site-packages\\numpy\\lib\\npyio.py\u001b[0m in \u001b[0;36msave\u001b[1;34m(file, arr, allow_pickle, fix_imports)\u001b[0m\n\u001b[0;32m    539\u001b[0m         \u001b[1;32mif\u001b[0m \u001b[1;32mnot\u001b[0m \u001b[0mfile\u001b[0m\u001b[1;33m.\u001b[0m\u001b[0mendswith\u001b[0m\u001b[1;33m(\u001b[0m\u001b[1;34m'.npy'\u001b[0m\u001b[1;33m)\u001b[0m\u001b[1;33m:\u001b[0m\u001b[1;33m\u001b[0m\u001b[1;33m\u001b[0m\u001b[0m\n\u001b[0;32m    540\u001b[0m             \u001b[0mfile\u001b[0m \u001b[1;33m=\u001b[0m \u001b[0mfile\u001b[0m \u001b[1;33m+\u001b[0m \u001b[1;34m'.npy'\u001b[0m\u001b[1;33m\u001b[0m\u001b[1;33m\u001b[0m\u001b[0m\n\u001b[1;32m--> 541\u001b[1;33m         \u001b[0mfid\u001b[0m \u001b[1;33m=\u001b[0m \u001b[0mopen\u001b[0m\u001b[1;33m(\u001b[0m\u001b[0mfile\u001b[0m\u001b[1;33m,\u001b[0m \u001b[1;34m\"wb\"\u001b[0m\u001b[1;33m)\u001b[0m\u001b[1;33m\u001b[0m\u001b[1;33m\u001b[0m\u001b[0m\n\u001b[0m\u001b[0;32m    542\u001b[0m         \u001b[0mown_fid\u001b[0m \u001b[1;33m=\u001b[0m \u001b[1;32mTrue\u001b[0m\u001b[1;33m\u001b[0m\u001b[1;33m\u001b[0m\u001b[0m\n\u001b[0;32m    543\u001b[0m \u001b[1;33m\u001b[0m\u001b[0m\n",
      "\u001b[1;31mFileNotFoundError\u001b[0m: [Errno 2] No such file or directory: 'C:/Users/Javier Dominguez/Documents/Untitled Folder 1/qtables/0-qtable.npy'"
     ]
    }
   ],
   "source": [
    "\n",
    "for episode in range(EPISODES):\n",
    "    discrete_state = get_discrete_state(env.reset())#para conseguir el initial state\n",
    "    done = False\n",
    "    episode_reward = 0\n",
    "    if episode % SHOW_EVERY == 0:\n",
    "        print(episode)\n",
    "        render = True\n",
    "    else:\n",
    "        render = False\n",
    "    \n",
    "    \n",
    "    while not done:\n",
    "        if np.random.random() > epsilon:\n",
    "            action = np.argmax(q_table[discrete_state]) # 0 left 1 nothing 2 right\n",
    "        else:#random action\n",
    "            action = np.random.randint(0, env.action_space.n)\n",
    "            \n",
    "        new_state,reward, done,_ = env.step(action) #state has position and velocity\n",
    "        episode_reward += reward\n",
    "        new_discrete_state = get_discrete_state(new_state)\n",
    "        if render:\n",
    "            env.render()\n",
    "        if not done:\n",
    "            max_future_q = np.max(q_table[new_discrete_state])\n",
    "            current_q = q_table[discrete_state + (action,)]\n",
    "            new_q = (1 - LEARNING_RATE)* current_q + LEARNING_RATE * (reward + DISCOUNT* max_future_q)\n",
    "            q_table[discrete_state+(action,)] = new_q\n",
    "        elif new_state[0] >= env.goal_position:\n",
    "            q_table[discrete_state + (action,)] = 0\n",
    "\n",
    "        discrete_state = new_discrete_state\n",
    "        #print(reawar,new_state)\n",
    "    if END_EPSYLON_DECAYING >= episode >= START_EPSYLON_DECAYING:\n",
    "        epsilon -= epsilon_decay_value\n",
    "        \n",
    "    ep_rewards.append(episode_reward)\n",
    "    if not episode % STATS_EVERY:\n",
    "        average_reward = sum(ep_rewards [-STATS_EVERY:])/STATS_EVERY\n",
    "        aggr_ep_rewards['ep'].append(episode)\n",
    "        aggr_ep_rewards['avg'].append(average_reward)\n",
    "        aggr_ep_rewards['min'].append(min(ep_rewards [-STATS_EVERY:]))\n",
    "        aggr_ep_rewards['max'].append(max(ep_rewards [-STATS_EVERY:]))\n",
    "        print(f\"Episode: {episode} avg: {average_reward},min: {min(ep_rewards [-SHOW_EVERY:])}, max {max(ep_rewards [-SHOW_EVERY:])}\" )\n",
    "        np.save(f\"{episode}-qtable.npy\", q_table)\n",
    "        \n",
    "\n",
    "        \n",
    "env.close()\n",
    "plt.plot(aggr_ep_rewards['ep'],aggr_ep_rewards['avg'],label = 'avg')\n",
    "plt.plot(aggr_ep_rewards['ep'],aggr_ep_rewards['min'],label = 'min')\n",
    "plt.plot(aggr_ep_rewards['ep'],aggr_ep_rewards['max'],label = 'max')\n",
    "plt.legend(loc=4)\n",
    "plt.show()\n",
    "#with this we have no power to get to the top of the mountain. we need to get momentum\n"
   ]
  },
  {
   "cell_type": "code",
   "execution_count": 22,
   "metadata": {},
   "outputs": [
    {
     "name": "stdout",
     "output_type": "stream",
     "text": [
      "0\n",
      "0 [[-1.90430526 -1.64188496 -1.45097361]\n",
      " [-1.58909828 -0.21666229 -0.176419  ]\n",
      " [-0.559864   -1.42015659 -1.58530885]\n",
      " [-1.47019064 -0.54290616 -1.11636182]\n",
      " [-0.38374067 -1.18093044 -1.68383486]\n",
      " [-1.14189026 -1.41213661 -1.72226912]\n",
      " [-1.67749157 -0.67198922 -1.60033176]\n",
      " [-0.40680337 -1.97538278 -1.71186342]\n",
      " [-1.20579505 -1.28819581 -1.82943136]\n",
      " [-0.83347434 -1.65847108 -1.9377729 ]\n",
      " [-1.18478186 -0.04732544 -1.92407657]\n",
      " [-1.08828536 -1.79612882 -1.63777259]\n",
      " [-0.19729201 -0.34793029 -1.37142487]\n",
      " [-1.67823823 -0.45850332 -0.82066898]\n",
      " [-0.59572129 -1.5598732  -1.01878281]\n",
      " [-1.7555574  -1.95733683 -1.2699625 ]\n",
      " [-0.21568085 -0.62053575 -0.4115996 ]\n",
      " [-0.9794336  -0.7033869  -0.93448778]\n",
      " [-0.75757789 -1.16587706 -0.74317347]\n",
      " [-1.27517823 -1.02455658 -1.5970703 ]\n",
      " [-0.71200618 -0.42348184 -1.13490715]\n",
      " [-0.47669774 -0.36825074 -1.59019037]\n",
      " [-1.47053691 -0.19276696 -0.70941482]\n",
      " [-0.87990519 -1.88153883 -0.24379351]\n",
      " [-0.78625368 -1.65636077 -0.87469354]\n",
      " [-0.89696394 -1.51749719 -0.24192923]\n",
      " [-0.36619841 -0.23702192 -1.09884143]\n",
      " [-0.64150962 -1.99686913 -0.65305625]\n",
      " [-1.47535224 -1.84659558 -0.33242617]\n",
      " [-0.42176714 -0.01331115 -1.60005419]\n",
      " [-1.68774734 -1.32653523 -1.57385778]\n",
      " [-1.36286536 -1.50481382 -1.32877314]\n",
      " [-1.0763179  -0.52220324 -0.22259555]\n",
      " [-0.7870991  -0.61753037 -1.23457701]\n",
      " [-0.72706382 -1.74939714 -0.39714539]\n",
      " [-1.0249568  -1.57988965 -0.78450926]\n",
      " [-0.67515949 -1.36918876 -1.24774555]\n",
      " [-1.69918231 -0.25954786 -0.8972436 ]\n",
      " [-1.72141714 -1.63762921 -0.86078126]\n",
      " [-1.20804491 -1.39106963 -0.23711154]]\n",
      "0 [-1.90430526 -1.64188496 -1.45097361]\n",
      "10\n"
     ]
    },
    {
     "ename": "FileNotFoundError",
     "evalue": "[Errno 2] No such file or directory: '10-qtable.npy'",
     "output_type": "error",
     "traceback": [
      "\u001b[1;31m---------------------------------------------------------------------------\u001b[0m",
      "\u001b[1;31mFileNotFoundError\u001b[0m                         Traceback (most recent call last)",
      "\u001b[1;32m<ipython-input-22-2579b136351a>\u001b[0m in \u001b[0;36m<module>\u001b[1;34m\u001b[0m\n\u001b[0;32m     14\u001b[0m     \u001b[0max2\u001b[0m \u001b[1;33m=\u001b[0m \u001b[0mfig\u001b[0m\u001b[1;33m.\u001b[0m\u001b[0madd_subplot\u001b[0m\u001b[1;33m(\u001b[0m\u001b[1;36m312\u001b[0m\u001b[1;33m)\u001b[0m\u001b[1;33m\u001b[0m\u001b[1;33m\u001b[0m\u001b[0m\n\u001b[0;32m     15\u001b[0m     \u001b[0max3\u001b[0m \u001b[1;33m=\u001b[0m \u001b[0mfig\u001b[0m\u001b[1;33m.\u001b[0m\u001b[0madd_subplot\u001b[0m\u001b[1;33m(\u001b[0m\u001b[1;36m313\u001b[0m\u001b[1;33m)\u001b[0m\u001b[1;33m\u001b[0m\u001b[1;33m\u001b[0m\u001b[0m\n\u001b[1;32m---> 16\u001b[1;33m     \u001b[0mq_table\u001b[0m \u001b[1;33m=\u001b[0m \u001b[0mnp\u001b[0m\u001b[1;33m.\u001b[0m\u001b[0mload\u001b[0m\u001b[1;33m(\u001b[0m\u001b[1;34mf\"{i}-qtable.npy\"\u001b[0m\u001b[1;33m)\u001b[0m\u001b[1;33m\u001b[0m\u001b[1;33m\u001b[0m\u001b[0m\n\u001b[0m\u001b[0;32m     17\u001b[0m \u001b[1;33m\u001b[0m\u001b[0m\n\u001b[0;32m     18\u001b[0m \u001b[1;33m\u001b[0m\u001b[0m\n",
      "\u001b[1;32mC:\\Anaconda3\\envs\\Py3Env\\lib\\site-packages\\numpy\\lib\\npyio.py\u001b[0m in \u001b[0;36mload\u001b[1;34m(file, mmap_mode, allow_pickle, fix_imports, encoding)\u001b[0m\n\u001b[0;32m    426\u001b[0m         \u001b[0mown_fid\u001b[0m \u001b[1;33m=\u001b[0m \u001b[1;32mFalse\u001b[0m\u001b[1;33m\u001b[0m\u001b[1;33m\u001b[0m\u001b[0m\n\u001b[0;32m    427\u001b[0m     \u001b[1;32melse\u001b[0m\u001b[1;33m:\u001b[0m\u001b[1;33m\u001b[0m\u001b[1;33m\u001b[0m\u001b[0m\n\u001b[1;32m--> 428\u001b[1;33m         \u001b[0mfid\u001b[0m \u001b[1;33m=\u001b[0m \u001b[0mopen\u001b[0m\u001b[1;33m(\u001b[0m\u001b[0mos_fspath\u001b[0m\u001b[1;33m(\u001b[0m\u001b[0mfile\u001b[0m\u001b[1;33m)\u001b[0m\u001b[1;33m,\u001b[0m \u001b[1;34m\"rb\"\u001b[0m\u001b[1;33m)\u001b[0m\u001b[1;33m\u001b[0m\u001b[1;33m\u001b[0m\u001b[0m\n\u001b[0m\u001b[0;32m    429\u001b[0m         \u001b[0mown_fid\u001b[0m \u001b[1;33m=\u001b[0m \u001b[1;32mTrue\u001b[0m\u001b[1;33m\u001b[0m\u001b[1;33m\u001b[0m\u001b[0m\n\u001b[0;32m    430\u001b[0m \u001b[1;33m\u001b[0m\u001b[0m\n",
      "\u001b[1;31mFileNotFoundError\u001b[0m: [Errno 2] No such file or directory: '10-qtable.npy'"
     ]
    },
    {
     "data": {
      "image/png": "[encoded data removed]",
      "text/plain": [
       "<Figure size 864x648 with 3 Axes>"
      ]
     },
     "metadata": {},
     "output_type": "display_data"
    }
   ],
   "source": [
    "style.use('ggplot')\n",
    "\n",
    "def get_q_color(value,vals):\n",
    "    if value == max(vals):\n",
    "        return \"green\", 1.0\n",
    "    else:\n",
    "        return \"red\", 0.3\n",
    "\n",
    "fig = plt.figure(figsize=(12,9))\n",
    "\n",
    "for i in range(0,10000,10):\n",
    "    print(i)\n",
    "    ax1 = fig.add_subplot(311)\n",
    "    ax2 = fig.add_subplot(312)\n",
    "    ax3 = fig.add_subplot(313)\n",
    "    q_table = np.load(f\"{i}-qtable.npy\")\n",
    "    \n",
    "    \n",
    "    counter = 0\n",
    "    for x, x_vals in enumerate(q_table):\n",
    "        if counter == 0:\n",
    "            print(x,x_vals)\n",
    "        for y, y_vals in enumerate(x_vals): #separamos la discretización de 0 49\n",
    "            if counter == 0:\n",
    "                print(y,y_vals)\n",
    "                counter =1\n",
    "            ax1.scatter(x, y, c=get_q_color(y_vals[0], y_vals)[0], marker=\"o\", alpha=get_q_color(y_vals[0], y_vals)[1])\n",
    "            ax1.scatter(x, y, c=get_q_color(y_vals[0], y_vals)[0], marker=\"o\", alpha=get_q_color(y_vals[0], y_vals)[1])\n",
    "            ax1.scatter(x, y, c=get_q_color(y_vals[0], y_vals)[0], marker=\"o\", alpha=get_q_color(y_vals[0], y_vals)[1])\n",
    "            \n",
    "            ax1.set_ylabel(\"Action 0\")\n",
    "            ax2.set_ylabel(\"Action 1\")\n",
    "            ax3.set_ylabel(\"Action 2\")\n",
    "    plt.savefig(\"f{i}.png\")\n",
    "    plt.clf()"
   ]
  },
  {
   "cell_type": "code",
   "execution_count": null,
   "metadata": {},
   "outputs": [],
   "source": []
  }
 ],
 "metadata": {
  "kernelspec": {
   "display_name": "Py3Env",
   "language": "python",
   "name": "py3env"
  },
  "language_info": {
   "codemirror_mode": {
    "name": "ipython",
    "version": 3
   },
   "file_extension": ".py",
   "mimetype": "text/x-python",
   "name": "python",
   "nbconvert_exporter": "python",
   "pygments_lexer": "ipython3",
   "version": "3.7.7"
  }
 },
 "nbformat": 4,
 "nbformat_minor": 2
}
